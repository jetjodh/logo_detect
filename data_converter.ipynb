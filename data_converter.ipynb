{
 "cells": [
  {
   "cell_type": "code",
   "execution_count": 2,
   "metadata": {},
   "outputs": [],
   "source": [
    "# Importing necessary libs\n",
    "import os\n",
    "import sys\n",
    "import numpy as np\n",
    "import pandas as pd\n",
    "import cv2\n",
    "import xmltodict\n",
    "import json\n",
    "from tqdm.notebook import tqdm\n",
    "\n",
    "from pycocotools.coco import COCO"
   ]
  },
  {
   "cell_type": "code",
   "execution_count": 3,
   "metadata": {},
   "outputs": [],
   "source": [
    "# Setting directories\n",
    "img_dir = \"JPEGImages/\"\n",
    "anno_dir = \"Annotations/\"\n",
    "files = os.listdir(anno_dir)\n"
   ]
  },
  {
   "cell_type": "code",
   "execution_count": null,
   "metadata": {},
   "outputs": [
    {
     "data": {
      "application/vnd.jupyter.widget-view+json": {
       "model_id": "1bc5d2bcc23f4f49a1345a90829c3736",
       "version_major": 2,
       "version_minor": 0
      },
      "text/plain": [
       "HBox(children=(FloatProgress(value=0.0, max=27086.0), HTML(value='')))"
      ]
     },
     "metadata": {},
     "output_type": "display_data"
    }
   ],
   "source": [
    "# Converting pascal voc data format to pandas dataframe\n",
    "combined = [];\n",
    "for i in tqdm(range(len(files))):\n",
    "    annoFile = anno_dir + \"/\" + files[i];\n",
    "    f = open(annoFile, 'r');\n",
    "    my_xml = f.read();\n",
    "    try:\n",
    "        anno = dict(dict(xmltodict.parse(my_xml))[\"annotation\"])\n",
    "        fname = anno[\"filename\"];\n",
    "        label_str = \"\";\n",
    "        if(type(anno[\"object\"]) == list):\n",
    "            for j in range(len(anno[\"object\"])):\n",
    "                obj = dict(anno[\"object\"][j]);\n",
    "                label = anno[\"object\"][j][\"name\"];\n",
    "                bbox = dict(anno[\"object\"][j][\"bndbox\"])\n",
    "                x1 = bbox[\"xmin\"];\n",
    "                y1 = bbox[\"ymin\"];\n",
    "                x2 = bbox[\"xmax\"];\n",
    "                y2 = bbox[\"ymax\"];\n",
    "                if(j == len(anno[\"object\"])-1):\n",
    "                    label_str += x1 + \" \" + y1 + \" \" + x2 + \" \" + y2 + \" \" + label;\n",
    "                else:        \n",
    "                    label_str += x1 + \" \" + y1 + \" \" + x2 + \" \" + y2 + \" \" + label + \" \";\n",
    "        else:\n",
    "            obj = dict(anno[\"object\"]);\n",
    "            label = anno[\"object\"][\"name\"];\n",
    "            bbox = dict(anno[\"object\"][\"bndbox\"])\n",
    "            x1 = bbox[\"xmin\"];\n",
    "            y1 = bbox[\"ymin\"];\n",
    "            x2 = bbox[\"xmax\"];\n",
    "            y2 = bbox[\"ymax\"];\n",
    "\n",
    "            label_str += x1 + \" \" + y1 + \" \" + x2 + \" \" + y2 + \" \" + label\n",
    "        \n",
    "        combined.append([fname, label_str])\n",
    "    except:\n",
    "        pass\n",
    "    \n"
   ]
  },
  {
   "cell_type": "code",
   "execution_count": null,
   "metadata": {},
   "outputs": [],
   "source": [
    "df = pd.DataFrame(combined, columns = ['ID', 'Label'])\n",
    "df.to_csv(\"val_labels.csv\", index=False)"
   ]
  },
  {
   "cell_type": "code",
   "execution_count": null,
   "metadata": {},
   "outputs": [],
   "source": [
    "# Converting pandas df to COCO format\n",
    "anno_file = \"val_labels.csv\"\n",
    "annotations_path = r\"C:\\Users\\Acer\\Downloads\\openlogo\\annotations\"\n",
    "if not os.path.isdir(annotations_path):\n",
    "    os.mkdir(annotations_path)\n",
    "    \n",
    "input_images_folder = img_dir\n",
    "input_annotations_path = anno_file\n",
    "output_image_folder = input_images_folder;\n",
    "output_annotation_folder = annotations_path"
   ]
  },
  {
   "cell_type": "code",
   "execution_count": null,
   "metadata": {},
   "outputs": [],
   "source": [
    "tmp = img_dir.replace(\"/\", \"\");\n",
    "output_annotation_file = output_annotation_folder + \"/instances_\" + 'valid' + \".json\";\n",
    "output_classes_file = output_annotation_folder + \"/classes.txt\"\n",
    "if not os.path.isdir(output_annotation_folder):\n",
    "    os.mkdir(output_annotation_folder)\n",
    "df = pd.read_csv(input_annotations_path)\n",
    "columns = df.columns\n"
   ]
  },
  {
   "cell_type": "code",
   "execution_count": null,
   "metadata": {},
   "outputs": [],
   "source": [
    "list_dict = [];\n",
    "anno = [];\n",
    "for i in range(len(df)):\n",
    "    img_name = df[columns[0]][i];\n",
    "    labels = df[columns[1]][i];\n",
    "    tmp = labels.split(' ');\n",
    "    for j in range(len(tmp)//5):\n",
    "        label = tmp[j*5+4];\n",
    "        if(label not in anno):\n",
    "            anno.append(label);\n",
    "    anno = sorted(anno)\n",
    "    \n",
    "for i in tqdm(range(len(anno))):\n",
    "    tmp = {};\n",
    "    tmp[\"supercategory\"] = \"master\";\n",
    "    tmp[\"id\"] = i;\n",
    "    tmp[\"name\"] = anno[i];\n",
    "    list_dict.append(tmp);\n",
    "\n",
    "anno_f = open(output_classes_file, 'w');\n",
    "for i in range(len(anno)):\n",
    "    anno_f.write(anno[i] + \"\\n\");\n",
    "anno_f.close();"
   ]
  },
  {
   "cell_type": "code",
   "execution_count": null,
   "metadata": {},
   "outputs": [],
   "source": [
    "coco_data = {};\n",
    "coco_data[\"type\"] = \"instances\";\n",
    "coco_data[\"images\"] = [];\n",
    "coco_data[\"annotations\"] = [];\n",
    "coco_data[\"categories\"] = list_dict;\n",
    "image_id = 0;\n",
    "annotation_id = 0;\n",
    "\n",
    "\n",
    "for i in tqdm(range(len(df))):\n",
    "    if i%50==0:\n",
    "        img_name = df[columns[0]][i];\n",
    "        labels = df[columns[1]][i];\n",
    "        tmp = labels.split(' ');\n",
    "        image_in_path = input_images_folder + \"/\" + img_name\n",
    "        print(image_in_path)\n",
    "        img = cv2.imread(image_in_path, 1)\n",
    "        h, w, c = img.shape;\n",
    "\n",
    "        images_tmp = {};\n",
    "        images_tmp[\"file_name\"] = img_name;\n",
    "        images_tmp[\"height\"] = h;\n",
    "        images_tmp[\"width\"] = w;\n",
    "        images_tmp[\"id\"] = image_id;\n",
    "        coco_data[\"images\"].append(images_tmp);\n",
    "\n",
    "\n",
    "        for j in range(len(tmp)//5):\n",
    "            x1 = int(tmp[j*5+0]);\n",
    "            y1 = int(tmp[j*5+1]);\n",
    "            x2 = int(tmp[j*5+2]);\n",
    "            y2 = int(tmp[j*5+3]);\n",
    "            label = tmp[j*5+4];\n",
    "            annotations_tmp = {};\n",
    "            annotations_tmp[\"id\"] = annotation_id;\n",
    "            annotation_id += 1;\n",
    "            annotations_tmp[\"image_id\"] = image_id;\n",
    "            annotations_tmp[\"segmentation\"] = [];\n",
    "            annotations_tmp[\"ignore\"] = 0;\n",
    "            annotations_tmp[\"area\"] = (x2-x1)*(y2-y1);\n",
    "            annotations_tmp[\"iscrowd\"] = 0;\n",
    "            annotations_tmp[\"bbox\"] = [x1, y1, x2-x1, y2-y1];\n",
    "            annotations_tmp[\"category_id\"] = anno.index(label);\n",
    "\n",
    "            coco_data[\"annotations\"].append(annotations_tmp)\n",
    "        image_id += 1;\n",
    "\n",
    "outfile =  open(output_annotation_file, 'w');\n",
    "json_str = json.dumps(coco_data, indent=4)\n",
    "outfile.write(json_str)\n",
    "outfile.close()"
   ]
  },
  {
   "cell_type": "code",
   "execution_count": null,
   "metadata": {},
   "outputs": [],
   "source": []
  }
 ],
 "metadata": {
  "kernelspec": {
   "display_name": "Python 3",
   "language": "python",
   "name": "python3"
  },
  "language_info": {
   "codemirror_mode": {
    "name": "ipython",
    "version": 3
   },
   "file_extension": ".py",
   "mimetype": "text/x-python",
   "name": "python",
   "nbconvert_exporter": "python",
   "pygments_lexer": "ipython3",
   "version": "3.8.3"
  }
 },
 "nbformat": 4,
 "nbformat_minor": 4
}
