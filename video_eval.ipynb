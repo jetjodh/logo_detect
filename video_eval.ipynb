{
 "cells": [
  {
   "cell_type": "code",
   "execution_count": 2,
   "metadata": {},
   "outputs": [],
   "source": [
    "import time\n",
    "import torch\n",
    "import cv2\n",
    "import numpy as np\n",
    "from tqdm import tqdm\n",
    "# import skvideo\n",
    "# skvideo.setFFmpegPath(r'C:\\ProgramData\\Anaconda3\\Lib\\site-packages\\skvideo\\io')\n",
    "from torch.backends import cudnn\n",
    "from pycocotools.coco import COCO\n",
    "from backbone import EfficientDetBackbone\n",
    "from efficientdet.utils import BBoxTransform, ClipBoxes\n",
    "from utils.utils import preprocess, invert_affine, postprocess, preprocess_video\n",
    "import skvideo.measure"
   ]
  },
  {
   "cell_type": "markdown",
   "metadata": {},
   "source": [
    "# Defining thresholds for evaluation"
   ]
  },
  {
   "cell_type": "code",
   "execution_count": 2,
   "metadata": {},
   "outputs": [],
   "source": [
    "# Taking the video file as input\n",
    "video_src = r'C:\\Users\\Acer\\Downloads\\Untitled_video_720p.mp4'  \n",
    "\n",
    "compound_coef = 2\n",
    "force_input_size = None  \n",
    "\n",
    "threshold = 0.5\n",
    "iou_threshold = 0.5\n",
    "\n",
    "use_cuda = True\n",
    "use_float16 = False\n",
    "cudnn.fastest = True\n",
    "cudnn.benchmark = True"
   ]
  },
  {
   "cell_type": "code",
   "execution_count": 3,
   "metadata": {},
   "outputs": [],
   "source": [
    "obj_list = ['background','3m''abus','accenture','adidas','adidas1','adidas_text','airhawk','airness','aldi','aldi_text','alfaromeo','allett','allianz','allianz_text',\n",
    "            'aluratek','aluratek_text','amazon','amcrest','amcrest_text','americanexpress','americanexpress_text','android','anz','anz_text',\n",
    "            'apc','apecase','apple','aquapac_text','aral','armani','armitron','aspirin','asus','at_and_t','athalon','audi','audi_text',\n",
    "            'axa','bacardi','bankofamerica','bankofamerica_text','barbie','barclays','base','basf','batman','bayer','bbc','bbva',\n",
    "          'becks','bellataylor','bellodigital','bellodigital_text','bem','benrus','bershka','bfgoodrich','bik','bionade',\n",
    "            'blackmores','blizzardentertainment','bmw','boeing','boeing_text','bosch','bosch_text','bottegaveneta','bridgestone','bridgestone_text','budweiser','budweiser_text','bulgari','burgerking',\n",
    "            'burgerking_text','calvinklein','canon','carglass','carlsberg','carters','cartier','caterpillar','chanel','chanel_text','cheetos','chevrolet',\n",
    "            'chevrolet_text','chevron','chickfila','chimay','chiquita','cisco','citi','citroen','citroen_text','coach','cocacola','coke','colgate','comedycentral','converse','corona','corona_text',\n",
    "            'costa','costco','cpa_australia','cvs','cvspharmacy','danone','dexia','dhl','disney','doritos','drpepper','dunkindonuts','ebay','ec','erdinger','espn','esso','esso_text',\n",
    "            'evernote','facebook','fedex','ferrari','firefox','firelli','fly_emirates','ford','fosters','fritolay','fritos',\n",
    "            'gap','generalelectric','gildan','gillette','goodyear','google','gucci','guinness','hanes','head','head_text','heineken','heineken_text','heraldsun','hermes','hersheys',\n",
    "            'hh','hisense','hm','homedepot','homedepot_text','honda','honda_text','hp','hsbc','hsbc_text','huawei','huawei_text','hyundai','hyundai_text','ibm','ikea','infiniti''infiniti_text',\n",
    "            'intel','internetexplorer','jackinthebox','jacobscreek','jagermeister','jcrew','jello','johnnywalker','jurlique','kelloggs',\n",
    "            'kfc','kia','kitkat','kodak','kraft','lacoste','lacoste_text','lamborghini','lays','lego','levis','lexus','lexus_text',\n",
    "            'lg','londonunderground','loreal','lotto','luxottica','lv','marlboro','marlboro_fig','marlboro_text','maserati','mastercard','maxwellhouse',\n",
    "            'maxxis','mccafe','mcdonalds','mcdonalds_text','medibank','mercedesbenz','mercedesbenz_text','michelin','microsoft','milka',\n",
    "            'millerhighlife','mini','miraclewhip','mitsubishi','mk','mobil','motorola','mtv','nasa','nb','nbc','nescafe','netflix','nike',\n",
    "            'nike_text','nintendo','nissan','nissan_text','nivea','northface','nvidia','obey','olympics','opel','optus','optus_yes','oracle','pampers','panasonic'\n",
    "            ,'paulaner','pepsi','pepsi_text','pepsi_text1','philadelphia','philips','pizzahut','pizzahut_hut','planters','playstation',\n",
    "            'poloralphlauren','porsche','porsche_text','prada','puma','puma_text','quick','rbc','recycling','redbull','redbull_text','reebok','reebok1','reebok_text',\n",
    "            'reeses','renault','republican','rittersport','rolex','rolex_text','ruffles','samsung','santander','santander_text','sap','schwinn',\n",
    "            'scion_text','sega','select','shell','shell_text','shell_text1','siemens','singha','skechers','sony','soundcloud','soundrop',\n",
    "            'spar','spar_text','spiderman','sprite','standard_liege','starbucks','stellaartois','subaru','subway','sunchips',\n",
    "            'superman','supreme','suzuki','t-mobile','tacobell','target','target_text','teslamotors','texaco','thomsonreuters',\n",
    "            'tigerwash','timberland','tissot','tnt','tommyhilfiger','tostitos','total','toyota','toyota_text','tsingtao','twitter','umbro',\n",
    "            'underarmour','unicef','uniqlo','uniqlo1','unitednations','ups','us_president','vaio','velveeta','venus','verizon',\n",
    "            'verizon_text','visa','vodafone','volkswagen','volkswagen_text','volvo','walmart','walmart_text','warnerbros','wellsfargo',\n",
    "            'wellsfargo_text','wii','williamhill','windows','wordpress','xbox','yahoo','yamaha','yonex','yonex_text','youtube','zara']"
   ]
  },
  {
   "cell_type": "markdown",
   "metadata": {},
   "source": [
    "# Predicting on input video frames\n",
    "* Reading the video frames as and feeding them forward through model.\n",
    "* Postprocessing the output, putting bounding boxes and writing it to the result video"
   ]
  },
  {
   "cell_type": "code",
   "execution_count": null,
   "metadata": {
    "scrolled": true
   },
   "outputs": [],
   "source": [
    "input_sizes = [512, 640, 768, 896, 1024, 1280, 1280, 1536]\n",
    "input_size = input_sizes[2] \n",
    "output= r'C:\\Users\\Acer\\Downloads\\openlogo\\vid\\\\'\n",
    "# load model\n",
    "model = EfficientDetBackbone(compound_coef=compound_coef, num_classes=len(obj_list))\n",
    "model.load_state_dict(torch.load(f'weights/efficientdet-d2_4_9025.pth'))\n",
    "model.requires_grad_(False)\n",
    "model.eval()\n",
    "\n",
    "if use_cuda:\n",
    "    model = model.cuda()\n",
    "if use_float16:\n",
    "    model = model.half()\n",
    "\n",
    "# function for writing on the frame\n",
    "def display(preds, imgs):\n",
    "    for i in range(len(imgs)):\n",
    "        if len(preds[i]['rois']) == 0:\n",
    "            return imgs[i]\n",
    "\n",
    "        for j in range(len(preds[i]['rois'])):\n",
    "            (x1, y1, x2, y2) = preds[i]['rois'][j].astype(np.int)\n",
    "            obj = obj_list[preds[i]['class_ids'][j]]\n",
    "            score = float(preds[i]['scores'][j])\n",
    "\n",
    "            cv2.putText(imgs[i], '{}'.format(obj),\n",
    "                        (x1, y1 + 10), cv2.FONT_HERSHEY_SIMPLEX, 0.5,\n",
    "                        (0, 0, 255), 1)\n",
    "        \n",
    "        return imgs[i]\n",
    "# Box\n",
    "regressBoxes = BBoxTransform()\n",
    "clipBoxes = ClipBoxes()\n",
    "\n",
    "# Video capture\n",
    "cap = cv2.VideoCapture(video_src)\n",
    "fps = cap.get(cv2.CAP_PROP_FPS)\n",
    "\n",
    "video = cv2.VideoWriter('result.mp4',\n",
    "                        cv2.VideoWriter_fourcc(*'MP4V'),\n",
    "                        int(fps), \n",
    "                        (720, 1280))  \n",
    "while True:\n",
    "    ret, frame = cap.read()\n",
    "    if not ret:\n",
    "        break\n",
    "\n",
    "    # frame preprocessing\n",
    "    ori_imgs, framed_imgs, framed_metas = preprocess_video(frame, max_size=input_size)\n",
    "\n",
    "    if use_cuda:\n",
    "        x = torch.stack([torch.from_numpy(fi).cuda() for fi in framed_imgs], 0)\n",
    "    else:\n",
    "        x = torch.stack([torch.from_numpy(fi) for fi in framed_imgs], 0)\n",
    "\n",
    "    x = x.to(torch.float32 if not use_float16 else torch.float16).permute(0, 3, 1, 2)\n",
    "\n",
    "    # model predict\n",
    "    with torch.no_grad():\n",
    "        features, regression, classification, anchors = model(x)\n",
    "\n",
    "        out = postprocess(x,\n",
    "                        anchors, regression, classification,\n",
    "                        regressBoxes, clipBoxes,\n",
    "                        threshold, iou_threshold)\n",
    "\n",
    "    # proceess ouput frame\n",
    "    out = invert_affine(framed_metas, out)\n",
    "    img_show = display(out, ori_imgs)\n",
    "    # write video frame by frame\n",
    "    video.write(img_show)\n",
    "cap.release()\n",
    "video.release()\n"
   ]
  },
  {
   "cell_type": "code",
   "execution_count": null,
   "metadata": {},
   "outputs": [],
   "source": []
  }
 ],
 "metadata": {
  "kernelspec": {
   "display_name": "Python 3",
   "language": "python",
   "name": "python3"
  },
  "language_info": {
   "codemirror_mode": {
    "name": "ipython",
    "version": 3
   },
   "file_extension": ".py",
   "mimetype": "text/x-python",
   "name": "python",
   "nbconvert_exporter": "python",
   "pygments_lexer": "ipython3",
   "version": "3.8.3"
  }
 },
 "nbformat": 4,
 "nbformat_minor": 4
}
